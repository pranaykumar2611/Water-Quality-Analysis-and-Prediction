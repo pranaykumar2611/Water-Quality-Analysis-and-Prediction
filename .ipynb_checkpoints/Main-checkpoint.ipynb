{
 "cells": [
  {
   "cell_type": "code",
   "execution_count": 1,
   "id": "2bc82754",
   "metadata": {},
   "outputs": [],
   "source": [
    "# importing pandas and numpy\n",
    "import pandas as pd\n",
    "import numpy as np"
   ]
  },
  {
   "cell_type": "code",
   "execution_count": 2,
   "id": "96bc59f8",
   "metadata": {},
   "outputs": [
    {
     "data": {
      "text/html": [
       "<div>\n",
       "<style scoped>\n",
       "    .dataframe tbody tr th:only-of-type {\n",
       "        vertical-align: middle;\n",
       "    }\n",
       "\n",
       "    .dataframe tbody tr th {\n",
       "        vertical-align: top;\n",
       "    }\n",
       "\n",
       "    .dataframe thead th {\n",
       "        text-align: right;\n",
       "    }\n",
       "</style>\n",
       "<table border=\"1\" class=\"dataframe\">\n",
       "  <thead>\n",
       "    <tr style=\"text-align: right;\">\n",
       "      <th></th>\n",
       "      <th>ph</th>\n",
       "      <th>Hardness</th>\n",
       "      <th>Solids</th>\n",
       "      <th>Chloramines</th>\n",
       "      <th>Sulfate</th>\n",
       "      <th>Conductivity</th>\n",
       "      <th>Organic_carbon</th>\n",
       "      <th>Trihalomethanes</th>\n",
       "      <th>Turbidity</th>\n",
       "      <th>Potability</th>\n",
       "    </tr>\n",
       "  </thead>\n",
       "  <tbody>\n",
       "    <tr>\n",
       "      <th>0</th>\n",
       "      <td>NaN</td>\n",
       "      <td>204.890455</td>\n",
       "      <td>20791.318981</td>\n",
       "      <td>7.300212</td>\n",
       "      <td>368.516441</td>\n",
       "      <td>564.308654</td>\n",
       "      <td>10.379783</td>\n",
       "      <td>86.990970</td>\n",
       "      <td>2.963135</td>\n",
       "      <td>0</td>\n",
       "    </tr>\n",
       "    <tr>\n",
       "      <th>1</th>\n",
       "      <td>3.716080</td>\n",
       "      <td>129.422921</td>\n",
       "      <td>18630.057858</td>\n",
       "      <td>6.635246</td>\n",
       "      <td>NaN</td>\n",
       "      <td>592.885359</td>\n",
       "      <td>15.180013</td>\n",
       "      <td>56.329076</td>\n",
       "      <td>4.500656</td>\n",
       "      <td>0</td>\n",
       "    </tr>\n",
       "    <tr>\n",
       "      <th>2</th>\n",
       "      <td>8.099124</td>\n",
       "      <td>224.236259</td>\n",
       "      <td>19909.541732</td>\n",
       "      <td>9.275884</td>\n",
       "      <td>NaN</td>\n",
       "      <td>418.606213</td>\n",
       "      <td>16.868637</td>\n",
       "      <td>66.420093</td>\n",
       "      <td>3.055934</td>\n",
       "      <td>0</td>\n",
       "    </tr>\n",
       "    <tr>\n",
       "      <th>3</th>\n",
       "      <td>8.316766</td>\n",
       "      <td>214.373394</td>\n",
       "      <td>22018.417441</td>\n",
       "      <td>8.059332</td>\n",
       "      <td>356.886136</td>\n",
       "      <td>363.266516</td>\n",
       "      <td>18.436524</td>\n",
       "      <td>100.341674</td>\n",
       "      <td>4.628771</td>\n",
       "      <td>0</td>\n",
       "    </tr>\n",
       "    <tr>\n",
       "      <th>4</th>\n",
       "      <td>9.092223</td>\n",
       "      <td>181.101509</td>\n",
       "      <td>17978.986339</td>\n",
       "      <td>6.546600</td>\n",
       "      <td>310.135738</td>\n",
       "      <td>398.410813</td>\n",
       "      <td>11.558279</td>\n",
       "      <td>31.997993</td>\n",
       "      <td>4.075075</td>\n",
       "      <td>0</td>\n",
       "    </tr>\n",
       "  </tbody>\n",
       "</table>\n",
       "</div>"
      ],
      "text/plain": [
       "         ph    Hardness        Solids  Chloramines     Sulfate  Conductivity  \\\n",
       "0       NaN  204.890455  20791.318981     7.300212  368.516441    564.308654   \n",
       "1  3.716080  129.422921  18630.057858     6.635246         NaN    592.885359   \n",
       "2  8.099124  224.236259  19909.541732     9.275884         NaN    418.606213   \n",
       "3  8.316766  214.373394  22018.417441     8.059332  356.886136    363.266516   \n",
       "4  9.092223  181.101509  17978.986339     6.546600  310.135738    398.410813   \n",
       "\n",
       "   Organic_carbon  Trihalomethanes  Turbidity  Potability  \n",
       "0       10.379783        86.990970   2.963135           0  \n",
       "1       15.180013        56.329076   4.500656           0  \n",
       "2       16.868637        66.420093   3.055934           0  \n",
       "3       18.436524       100.341674   4.628771           0  \n",
       "4       11.558279        31.997993   4.075075           0  "
      ]
     },
     "execution_count": 2,
     "metadata": {},
     "output_type": "execute_result"
    }
   ],
   "source": [
    "data = pd.read_csv('D:\\Water Quality Analysis and Prediction\\water_potability.csv')\n",
    "data.head()"
   ]
  },
  {
   "cell_type": "markdown",
   "id": "30a56315",
   "metadata": {},
   "source": [
    "# Data Info "
   ]
  },
  {
   "cell_type": "code",
   "execution_count": 3,
   "id": "d07bfb46",
   "metadata": {},
   "outputs": [
    {
     "name": "stdout",
     "output_type": "stream",
     "text": [
      "<class 'pandas.core.frame.DataFrame'>\n",
      "RangeIndex: 3276 entries, 0 to 3275\n",
      "Data columns (total 10 columns):\n",
      " #   Column           Non-Null Count  Dtype  \n",
      "---  ------           --------------  -----  \n",
      " 0   ph               2785 non-null   float64\n",
      " 1   Hardness         3276 non-null   float64\n",
      " 2   Solids           3276 non-null   float64\n",
      " 3   Chloramines      3276 non-null   float64\n",
      " 4   Sulfate          2495 non-null   float64\n",
      " 5   Conductivity     3276 non-null   float64\n",
      " 6   Organic_carbon   3276 non-null   float64\n",
      " 7   Trihalomethanes  3114 non-null   float64\n",
      " 8   Turbidity        3276 non-null   float64\n",
      " 9   Potability       3276 non-null   int64  \n",
      "dtypes: float64(9), int64(1)\n",
      "memory usage: 256.1 KB\n"
     ]
    }
   ],
   "source": [
    "data.info()"
   ]
  },
  {
   "cell_type": "code",
   "execution_count": 4,
   "id": "e9934893",
   "metadata": {},
   "outputs": [
    {
     "data": {
      "text/plain": [
       "ph                 491\n",
       "Hardness             0\n",
       "Solids               0\n",
       "Chloramines          0\n",
       "Sulfate            781\n",
       "Conductivity         0\n",
       "Organic_carbon       0\n",
       "Trihalomethanes    162\n",
       "Turbidity            0\n",
       "Potability           0\n",
       "dtype: int64"
      ]
     },
     "execution_count": 4,
     "metadata": {},
     "output_type": "execute_result"
    }
   ],
   "source": [
    "# Checking for Null Values\n",
    "data.isnull().sum()"
   ]
  },
  {
   "cell_type": "code",
   "execution_count": 5,
   "id": "7426e795",
   "metadata": {},
   "outputs": [],
   "source": [
    "# Dropping Null Values\n",
    "data= data.dropna()"
   ]
  },
  {
   "cell_type": "code",
   "execution_count": 6,
   "id": "856e1305",
   "metadata": {},
   "outputs": [
    {
     "data": {
      "text/plain": [
       "0    1200\n",
       "1     811\n",
       "Name: Potability, dtype: int64"
      ]
     },
     "execution_count": 6,
     "metadata": {},
     "output_type": "execute_result"
    }
   ],
   "source": [
    "data.Potability.value_counts()"
   ]
  },
  {
   "cell_type": "markdown",
   "id": "42a1f6aa",
   "metadata": {},
   "source": [
    "## Not potable is much more potable(1200 > 811) so we need to balance the data to prevent bias"
   ]
  },
  {
   "cell_type": "code",
   "execution_count": 7,
   "id": "751ad1e9",
   "metadata": {},
   "outputs": [],
   "source": [
    "notpotable  = data[data['Potability']==0]\n",
    "potable = data[data['Potability']==1]  \n",
    "\n",
    "from sklearn.utils import resample\n",
    "df_minority_upsampled = resample(potable, replace = True, n_samples = 1200) \n",
    "\n",
    "from sklearn.utils import shuffle\n",
    "data = pd.concat([notpotable, df_minority_upsampled])\n",
    "data = shuffle(data) "
   ]
  },
  {
   "cell_type": "code",
   "execution_count": 8,
   "id": "6616552d",
   "metadata": {},
   "outputs": [
    {
     "data": {
      "text/plain": [
       "(2400, 10)"
      ]
     },
     "execution_count": 8,
     "metadata": {},
     "output_type": "execute_result"
    }
   ],
   "source": [
    "# Data Shape\n",
    "data.shape"
   ]
  },
  {
   "cell_type": "code",
   "execution_count": 9,
   "id": "f48bccc7",
   "metadata": {},
   "outputs": [
    {
     "data": {
      "text/plain": [
       "0    1200\n",
       "1    1200\n",
       "Name: Potability, dtype: int64"
      ]
     },
     "execution_count": 9,
     "metadata": {},
     "output_type": "execute_result"
    }
   ],
   "source": [
    "data.Potability.value_counts()"
   ]
  },
  {
   "cell_type": "markdown",
   "id": "d9033aeb",
   "metadata": {},
   "source": [
    "# Exploratory Data Analysis (EDA)"
   ]
  },
  {
   "cell_type": "code",
   "execution_count": 10,
   "id": "1725d1b5",
   "metadata": {},
   "outputs": [],
   "source": [
    "import matplotlib.pyplot as plt\n",
    "import seaborn as sns"
   ]
  },
  {
   "cell_type": "markdown",
   "id": "269726c3",
   "metadata": {},
   "source": [
    "# Correlation Plot"
   ]
  },
  {
   "cell_type": "code",
   "execution_count": 11,
   "id": "0364056c",
   "metadata": {},
   "outputs": [
    {
     "data": {
      "text/plain": [
       "<AxesSubplot:>"
      ]
     },
     "execution_count": 11,
     "metadata": {},
     "output_type": "execute_result"
    },
    {
     "data": {
      "image/png": "[encoded data removed]",
      "text/plain": [
       "<Figure size 864x648 with 2 Axes>"
      ]
     },
     "metadata": {
      "needs_background": "light"
     },
     "output_type": "display_data"
    }
   ],
   "source": [
    "corrmat = data.corr()\n",
    "f, ax = plt.subplots(figsize=(12, 9))\n",
    "sns.heatmap(corrmat, vmax=.8, square=True,cmap=\"Blues\")"
   ]
  },
  {
   "cell_type": "code",
   "execution_count": 12,
   "id": "4f15c333",
   "metadata": {},
   "outputs": [
    {
     "data": {
      "text/plain": [
       "<AxesSubplot:>"
      ]
     },
     "execution_count": 12,
     "metadata": {},
     "output_type": "execute_result"
    },
    {
     "data": {
      "image/png": "[encoded data removed]",
      "text/plain": [
       "<Figure size 1080x648 with 2 Axes>"
      ]
     },
     "metadata": {
      "needs_background": "light"
     },
     "output_type": "display_data"
    }
   ],
   "source": [
    "# Heatmap with Correlation\n",
    "plt.figure(figsize = (15,9))\n",
    "sns.heatmap(data.corr(), annot = True,cmap=\"Blues\")"
   ]
  },
  {
   "cell_type": "code",
   "execution_count": 13,
   "id": "4b64fde9",
   "metadata": {},
   "outputs": [
    {
     "data": {
      "text/plain": [
       "Potability         1.000000\n",
       "Solids             0.026120\n",
       "Trihalomethanes    0.024033\n",
       "ph                 0.021909\n",
       "Chloramines        0.016610\n",
       "Organic_carbon     0.015397\n",
       "Turbidity          0.014979\n",
       "Hardness          -0.012541\n",
       "Sulfate           -0.013406\n",
       "Conductivity      -0.020568\n",
       "Name: Potability, dtype: float64"
      ]
     },
     "execution_count": 13,
     "metadata": {},
     "output_type": "execute_result"
    }
   ],
   "source": [
    "corr = data.corr()\n",
    "corr[\"Potability\"].sort_values(ascending=False)"
   ]
  },
  {
   "cell_type": "code",
   "execution_count": 14,
   "id": "e457f65d",
   "metadata": {},
   "outputs": [
    {
     "data": {
      "text/plain": [
       "<seaborn.axisgrid.FacetGrid at 0x24d68fe7970>"
      ]
     },
     "execution_count": 14,
     "metadata": {},
     "output_type": "execute_result"
    },
    {
     "data": {
      "image/png": "[encoded data removed]",
      "text/plain": [
       "<Figure size 432x216 with 2 Axes>"
      ]
     },
     "metadata": {
      "needs_background": "light"
     },
     "output_type": "display_data"
    }
   ],
   "source": [
    "g = sns.FacetGrid(data, col='Potability')\n",
    "g.map(plt.hist, 'Solids', bins=25)"
   ]
  },
  {
   "cell_type": "markdown",
   "id": "257d9e0b",
   "metadata": {},
   "source": [
    "# Applying Machine Learning Algorithm"
   ]
  },
  {
   "cell_type": "code",
   "execution_count": 24,
   "id": "9387d823",
   "metadata": {},
   "outputs": [],
   "source": [
    "#importing neccesary modules\n",
    "from sklearn.model_selection import train_test_split\n",
    "from sklearn.tree import DecisionTreeClassifier\n",
    "from sklearn.ensemble import RandomForestClassifier\n",
    "from sklearn.model_selection import RandomizedSearchCV, GridSearchCV\n",
    "from sklearn.metrics import accuracy_score"
   ]
  },
  {
   "cell_type": "code",
   "execution_count": 16,
   "id": "8117678c",
   "metadata": {},
   "outputs": [],
   "source": [
    "x = data.drop(['Potability'], axis = 1)\n",
    "y = data['Potability']"
   ]
  },
  {
   "cell_type": "code",
   "execution_count": 17,
   "id": "3729e165",
   "metadata": {},
   "outputs": [
    {
     "data": {
      "text/html": [
       "<div>\n",
       "<style scoped>\n",
       "    .dataframe tbody tr th:only-of-type {\n",
       "        vertical-align: middle;\n",
       "    }\n",
       "\n",
       "    .dataframe tbody tr th {\n",
       "        vertical-align: top;\n",
       "    }\n",
       "\n",
       "    .dataframe thead th {\n",
       "        text-align: right;\n",
       "    }\n",
       "</style>\n",
       "<table border=\"1\" class=\"dataframe\">\n",
       "  <thead>\n",
       "    <tr style=\"text-align: right;\">\n",
       "      <th></th>\n",
       "      <th>ph</th>\n",
       "      <th>Hardness</th>\n",
       "      <th>Solids</th>\n",
       "      <th>Chloramines</th>\n",
       "      <th>Sulfate</th>\n",
       "      <th>Conductivity</th>\n",
       "      <th>Organic_carbon</th>\n",
       "      <th>Trihalomethanes</th>\n",
       "      <th>Turbidity</th>\n",
       "    </tr>\n",
       "  </thead>\n",
       "  <tbody>\n",
       "    <tr>\n",
       "      <th>1422</th>\n",
       "      <td>0.730322</td>\n",
       "      <td>-0.406279</td>\n",
       "      <td>-0.430224</td>\n",
       "      <td>-0.257445</td>\n",
       "      <td>0.060765</td>\n",
       "      <td>1.775789</td>\n",
       "      <td>0.203895</td>\n",
       "      <td>-0.203213</td>\n",
       "      <td>-1.521894</td>\n",
       "    </tr>\n",
       "    <tr>\n",
       "      <th>2408</th>\n",
       "      <td>-0.888234</td>\n",
       "      <td>-0.655598</td>\n",
       "      <td>-0.872571</td>\n",
       "      <td>-1.093364</td>\n",
       "      <td>0.836451</td>\n",
       "      <td>0.564534</td>\n",
       "      <td>0.601822</td>\n",
       "      <td>-0.522534</td>\n",
       "      <td>1.456144</td>\n",
       "    </tr>\n",
       "    <tr>\n",
       "      <th>2335</th>\n",
       "      <td>-1.515599</td>\n",
       "      <td>-1.380355</td>\n",
       "      <td>-0.307134</td>\n",
       "      <td>0.488739</td>\n",
       "      <td>0.960180</td>\n",
       "      <td>-0.313550</td>\n",
       "      <td>-1.012014</td>\n",
       "      <td>0.158992</td>\n",
       "      <td>0.789334</td>\n",
       "    </tr>\n",
       "    <tr>\n",
       "      <th>2388</th>\n",
       "      <td>-0.900201</td>\n",
       "      <td>-1.509191</td>\n",
       "      <td>-0.080597</td>\n",
       "      <td>0.499749</td>\n",
       "      <td>1.209545</td>\n",
       "      <td>0.187389</td>\n",
       "      <td>0.680438</td>\n",
       "      <td>0.233299</td>\n",
       "      <td>-0.017351</td>\n",
       "    </tr>\n",
       "    <tr>\n",
       "      <th>1555</th>\n",
       "      <td>-0.043449</td>\n",
       "      <td>1.547369</td>\n",
       "      <td>-0.742700</td>\n",
       "      <td>0.265804</td>\n",
       "      <td>-0.640328</td>\n",
       "      <td>1.113583</td>\n",
       "      <td>0.938061</td>\n",
       "      <td>1.530459</td>\n",
       "      <td>-0.045099</td>\n",
       "    </tr>\n",
       "    <tr>\n",
       "      <th>...</th>\n",
       "      <td>...</td>\n",
       "      <td>...</td>\n",
       "      <td>...</td>\n",
       "      <td>...</td>\n",
       "      <td>...</td>\n",
       "      <td>...</td>\n",
       "      <td>...</td>\n",
       "      <td>...</td>\n",
       "      <td>...</td>\n",
       "    </tr>\n",
       "    <tr>\n",
       "      <th>2749</th>\n",
       "      <td>-0.769414</td>\n",
       "      <td>-0.339680</td>\n",
       "      <td>2.195159</td>\n",
       "      <td>-0.056483</td>\n",
       "      <td>-0.028035</td>\n",
       "      <td>1.695352</td>\n",
       "      <td>2.276976</td>\n",
       "      <td>-0.480699</td>\n",
       "      <td>-0.085583</td>\n",
       "    </tr>\n",
       "    <tr>\n",
       "      <th>1204</th>\n",
       "      <td>-0.729612</td>\n",
       "      <td>0.045724</td>\n",
       "      <td>0.079600</td>\n",
       "      <td>-0.896820</td>\n",
       "      <td>0.120661</td>\n",
       "      <td>-0.185923</td>\n",
       "      <td>-1.000749</td>\n",
       "      <td>-0.420099</td>\n",
       "      <td>-0.314512</td>\n",
       "    </tr>\n",
       "    <tr>\n",
       "      <th>1548</th>\n",
       "      <td>-0.305011</td>\n",
       "      <td>-0.093191</td>\n",
       "      <td>1.666046</td>\n",
       "      <td>-1.316505</td>\n",
       "      <td>-1.293844</td>\n",
       "      <td>-1.299522</td>\n",
       "      <td>0.102345</td>\n",
       "      <td>0.878403</td>\n",
       "      <td>-0.788728</td>\n",
       "    </tr>\n",
       "    <tr>\n",
       "      <th>1380</th>\n",
       "      <td>-0.252862</td>\n",
       "      <td>0.244048</td>\n",
       "      <td>0.218861</td>\n",
       "      <td>-0.248514</td>\n",
       "      <td>0.215582</td>\n",
       "      <td>0.370837</td>\n",
       "      <td>0.435720</td>\n",
       "      <td>-0.183739</td>\n",
       "      <td>-0.133009</td>\n",
       "    </tr>\n",
       "    <tr>\n",
       "      <th>178</th>\n",
       "      <td>-0.151386</td>\n",
       "      <td>-0.649232</td>\n",
       "      <td>0.260927</td>\n",
       "      <td>-0.977685</td>\n",
       "      <td>-0.825359</td>\n",
       "      <td>0.717927</td>\n",
       "      <td>-0.905117</td>\n",
       "      <td>-0.083839</td>\n",
       "      <td>-0.183990</td>\n",
       "    </tr>\n",
       "  </tbody>\n",
       "</table>\n",
       "<p>2400 rows × 9 columns</p>\n",
       "</div>"
      ],
      "text/plain": [
       "            ph  Hardness    Solids  Chloramines   Sulfate  Conductivity  \\\n",
       "1422  0.730322 -0.406279 -0.430224    -0.257445  0.060765      1.775789   \n",
       "2408 -0.888234 -0.655598 -0.872571    -1.093364  0.836451      0.564534   \n",
       "2335 -1.515599 -1.380355 -0.307134     0.488739  0.960180     -0.313550   \n",
       "2388 -0.900201 -1.509191 -0.080597     0.499749  1.209545      0.187389   \n",
       "1555 -0.043449  1.547369 -0.742700     0.265804 -0.640328      1.113583   \n",
       "...        ...       ...       ...          ...       ...           ...   \n",
       "2749 -0.769414 -0.339680  2.195159    -0.056483 -0.028035      1.695352   \n",
       "1204 -0.729612  0.045724  0.079600    -0.896820  0.120661     -0.185923   \n",
       "1548 -0.305011 -0.093191  1.666046    -1.316505 -1.293844     -1.299522   \n",
       "1380 -0.252862  0.244048  0.218861    -0.248514  0.215582      0.370837   \n",
       "178  -0.151386 -0.649232  0.260927    -0.977685 -0.825359      0.717927   \n",
       "\n",
       "      Organic_carbon  Trihalomethanes  Turbidity  \n",
       "1422        0.203895        -0.203213  -1.521894  \n",
       "2408        0.601822        -0.522534   1.456144  \n",
       "2335       -1.012014         0.158992   0.789334  \n",
       "2388        0.680438         0.233299  -0.017351  \n",
       "1555        0.938061         1.530459  -0.045099  \n",
       "...              ...              ...        ...  \n",
       "2749        2.276976        -0.480699  -0.085583  \n",
       "1204       -1.000749        -0.420099  -0.314512  \n",
       "1548        0.102345         0.878403  -0.788728  \n",
       "1380        0.435720        -0.183739  -0.133009  \n",
       "178        -0.905117        -0.083839  -0.183990  \n",
       "\n",
       "[2400 rows x 9 columns]"
      ]
     },
     "execution_count": 17,
     "metadata": {},
     "output_type": "execute_result"
    }
   ],
   "source": [
    "from sklearn.preprocessing import StandardScaler\n",
    "st = StandardScaler()\n",
    "col= x.columns\n",
    "x[col] = st.fit_transform(x[col])\n",
    "x[col]"
   ]
  },
  {
   "cell_type": "code",
   "execution_count": 18,
   "id": "37ccc6b4",
   "metadata": {},
   "outputs": [],
   "source": [
    "# Train test splitting the data\n",
    "X_train, X_test, Y_train, Y_test = train_test_split(x,y, test_size = 0.1)"
   ]
  },
  {
   "cell_type": "code",
   "execution_count": 20,
   "id": "2402e528",
   "metadata": {},
   "outputs": [],
   "source": [
    "# ML models\n",
    "dt = DecisionTreeClassifier()\n",
    "\n",
    "rf = RandomForestClassifier()"
   ]
  },
  {
   "cell_type": "code",
   "execution_count": 21,
   "id": "a9685394",
   "metadata": {},
   "outputs": [],
   "source": [
    "# decision Tree\n",
    "para_dt = {'criterion':['gini','entropy'],'max_depth':np.arange(1, 50), 'min_samples_leaf':[1,2,4,5,10,20,30,40,80,100]}\n",
    "grid_dt = GridSearchCV(dt, param_grid=para_dt, cv=5) #grid search decision tree for 5 fold cv\n",
    "params_rf = {'n_estimators':[100,200, 350, 500], 'min_samples_leaf':[2, 10, 30]}\n",
    "grid_rf = GridSearchCV(rf, param_grid=params_rf, cv=5)\n"
   ]
  },
  {
   "cell_type": "code",
   "execution_count": 22,
   "id": "d3461bbc",
   "metadata": {},
   "outputs": [
    {
     "name": "stdout",
     "output_type": "stream",
     "text": [
      "Best parameters for Decision Tree: {'criterion': 'gini', 'max_depth': 48, 'min_samples_leaf': 1}\n",
      "Best parameters for Random Forest: {'min_samples_leaf': 2, 'n_estimators': 200}\n"
     ]
    }
   ],
   "source": [
    "grid_dt.fit(X_train, Y_train)\n",
    "grid_rf.fit(X_train, Y_train)\n",
    "print(\"Best parameters for Decision Tree:\", grid_dt.best_params_)\n",
    "print(\"Best parameters for Random Forest:\", grid_rf.best_params_)"
   ]
  },
  {
   "cell_type": "code",
   "execution_count": 25,
   "id": "d852ab4f",
   "metadata": {},
   "outputs": [
    {
     "name": "stdout",
     "output_type": "stream",
     "text": [
      "Decision Tree : 0.82\n",
      "Random Forest : 0.89\n"
     ]
    }
   ],
   "source": [
    "# accuracy of the model\n",
    "models = [('Decision Tree', dt), ('Random Forest', rf)]\n",
    "\n",
    "\n",
    "for model_name, model in models:\n",
    " \n",
    "    model.fit(X_train, Y_train)    \n",
    "    y_pred = model.predict(X_test)\n",
    "    accuracy = accuracy_score(Y_test,y_pred)\n",
    "    print('{:s} : {:.2f}'.format(model_name, accuracy))"
   ]
  },
  {
   "cell_type": "code",
   "execution_count": null,
   "id": "723c6f0a",
   "metadata": {},
   "outputs": [],
   "source": []
  }
 ],
 "metadata": {
  "kernelspec": {
   "display_name": "Python 3 (ipykernel)",
   "language": "python",
   "name": "python3"
  },
  "language_info": {
   "codemirror_mode": {
    "name": "ipython",
    "version": 3
   },
   "file_extension": ".py",
   "mimetype": "text/x-python",
   "name": "python",
   "nbconvert_exporter": "python",
   "pygments_lexer": "ipython3",
   "version": "3.8.13"
  }
 },
 "nbformat": 4,
 "nbformat_minor": 5
}
